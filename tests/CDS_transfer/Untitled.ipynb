{
 "cells": [
  {
   "cell_type": "code",
   "execution_count": 1,
   "metadata": {},
   "outputs": [],
   "source": [
    "import Bio\n",
    "import Mikado\n",
    "import pyfaidx"
   ]
  },
  {
   "cell_type": "code",
   "execution_count": 2,
   "metadata": {},
   "outputs": [
    {
     "name": "stdout",
     "output_type": "stream",
     "text": [
      "ref.bed12:TraesCS1A01G000100.1\t0\t1308\tID=TraesCS1A01G000100.1;coding=True;phase=0\t0\t+\t379\t640\t0\t3\t250,424,634\t0,250,674\n",
      "target.bed12:TraesCS1A01G000100.1.mrna1\t0\t1293\tID=TraesCS1A01G000100.1.mrna1;coding=True;phase=0\t0\t+\t379\t682\t0\t1\t1293\t0\n"
     ]
    }
   ],
   "source": [
    "! grep TraesCS1A01G000100.1 ref.bed12 target.bed12"
   ]
  },
  {
   "cell_type": "code",
   "execution_count": 3,
   "metadata": {},
   "outputs": [],
   "source": [
    "ref_bed = Mikado.parsers.bed12.BED12(\"TraesCS1A01G000100.1\t0\t1308\tID=TraesCS1A01G000100.1;coding=True;phase=0\t0\t+\t379\t640\t0\t3\t250,424,634\t0,250,674\")\n",
    "tar_bed = Mikado.parsers.bed12.BED12(\"TraesCS1A01G000100.1.mrna1\t0\t1293\tID=TraesCS1A01G000100.1.mrna1;coding=True;phase=0\t0\t+\t379\t682\t0\t1\t1293\t0\")"
   ]
  },
  {
   "cell_type": "code",
   "execution_count": 4,
   "metadata": {},
   "outputs": [],
   "source": [
    "cdnas = dict()\n",
    "cdnas[\"ref\"] = pyfaidx.Fasta(\"ref.cdnas.fasta\")\n",
    "cdnas[\"target\"] = pyfaidx.Fasta(\"target.cdnas.fasta\")"
   ]
  },
  {
   "cell_type": "code",
   "execution_count": 5,
   "metadata": {},
   "outputs": [],
   "source": [
    "tar_cdna = str(cdnas[\"target\"][tar_bed.chrom])\n",
    "ref_cdna = str(cdnas[\"ref\"][ref_bed.chrom])"
   ]
  },
  {
   "cell_type": "code",
   "execution_count": 6,
   "metadata": {},
   "outputs": [],
   "source": [
    "import parasail"
   ]
  },
  {
   "cell_type": "code",
   "execution_count": 9,
   "metadata": {},
   "outputs": [],
   "source": [
    "ref_cds = Bio.Seq.Seq(ref_cdna[ref_bed.thick_start - 1:ref_bed.thick_end])\n",
    "ref_pep = Bio.Seq.Seq(ref_cdna[ref_bed.thick_start - 1:ref_bed.thick_end]).translate()"
   ]
  },
  {
   "cell_type": "code",
   "execution_count": 18,
   "metadata": {},
   "outputs": [
    {
     "data": {
      "text/plain": [
       "'GAGCCCGGTCCTCAGAGCCAATCCTTTTCCCGAAGTTACGGATCCGTTTTGCCGACTTCCCTTGCCTACATTGTTCCATTGGCCAGAGGCTGTTCGCCTTGGAGACCTGATGCGGTTATGAGTACGACCGGGCGTGAACGGTACTCGGTCGTCCGGATTTTCATGGGCCGCCGGGGGCGCACCGGACATCGCGCGACGTGCGGTGCTCTTTCGGCCACTGGACCCTACCTCCGGCTGAACGGTTTCCAAGGTTGGCAGGCCGTTAAGCAGAAAAGATAACTCTTCCCGAGGCCCCCGCCGGCGTCTTCGGACTTCCTAACGTCGCCGTCAACCGCCACATCCCGGCTCGGTAAGTCTTAACCTGATTCCCTTTCGGGGTATGCGCGTGATCGCGCTATCTGCCGGGGTTACCCCGTCCCTTAGGATCGGCTTACCCATGTGCAAGTGCCGTTCACATGGAACCTTTCTAATCTTCGGCCTTCAAAGTTCTCATTTGAATATTTGCTACTACCACCAGCCGCTCCACCCGGGCTCGCGCCCCGGGTTTTGCAGCGGCCGCCGCTCCCTCCTACTCATCGGGGCATGGCGCTCGCCCAGATGGCCGGGTGTGGGTCACGCGCTTCAGCGCCATCCATTTTCGGGGCTAGTTGATTCGGCAGGTGAGTTGTTACACACTCCTTAGCGGATTTCGACTTCCATGACCACCGTCCTGCTGTCTTAATCGACCAACACCCTTTGTGTGTTCTAGGTTAGCGCGCAGTTGGGCACCGTAACCCGGCTTCCGGTTCATCCCGCATCGCCAGTTCTGCTTACCAAAAATGGCCCACTAGGAGCACCCGATTCCGTGGCACGGCTCACCGAATCAGTCGCGCCATCCTACCTATTTAAAGTTTGAGAATAGGTCGAGGACGTTGCGTCCCCGATGCCTCTAATCATTAGCTTTACCTGATAGAACTCGTAATGGGCGCCAGCTATCCTGAGGGAAACTTCGGAGGGAACCAGCTACTAGATGGTTTGATTAGTCTTTCGTCCCTATAACCAAGTCAGACGAACGATTTGCACGTTAGTATTGCTTCGAGCCTCCACCAGAGTTTCCTCTGGCTTCGCCCTGCTCAGGCATAGTTCACCATCTTTCGGGTCCCGACAGGCGTGCTCCAACTCAAACCCTTCACAAAAGATCAGGGTCAGCCAGCGGTGCGGCCCGTGAGGGCCTCCCGCTCGTCAGCTTCCTTGCGCATCCCAGGTTTCAGAACCCGTCGACTCGCATGCATGTCAGACTCCTTGGTCCGTGTT'"
      ]
     },
     "execution_count": 18,
     "metadata": {},
     "output_type": "execute_result"
    }
   ],
   "source": [
    "str(tar_cdna)"
   ]
  },
  {
   "cell_type": "code",
   "execution_count": 12,
   "metadata": {},
   "outputs": [],
   "source": [
    "res = parasail.sg_trace_scan_32(str(ref_cds), tar_cdna, 11, 1, parasail.blosum62)"
   ]
  },
  {
   "cell_type": "code",
   "execution_count": 14,
   "metadata": {},
   "outputs": [
    {
     "data": {
      "text/plain": [
       "b'379D89=2X46=15I7=2X37=1X29=1X21=1X7=1X2=668D'"
      ]
     },
     "execution_count": 14,
     "metadata": {},
     "output_type": "execute_result"
    }
   ],
   "source": [
    "res.cigar.decode"
   ]
  },
  {
   "cell_type": "code",
   "execution_count": 15,
   "metadata": {},
   "outputs": [],
   "source": [
    "res_cdna = parasail.sg_trace_scan_32(str(ref_cdna), tar_cdna, 11, 1, parasail.blosum62)"
   ]
  },
  {
   "cell_type": "code",
   "execution_count": 16,
   "metadata": {},
   "outputs": [
    {
     "data": {
      "text/plain": [
       "b'6=1X11=1X70=1X5=1X2=1X34=1X16=1X37=1X1=1X19=1X2=1X26=1X7=1X5=1X42=1X8=1X21=1X19=1X1=1X2=1X8=1X15=1X89=2X46=15I7=2X37=1X29=1X21=1X7=1X670='"
      ]
     },
     "execution_count": 16,
     "metadata": {},
     "output_type": "execute_result"
    }
   ],
   "source": [
    "res_cdna.cigar.decode"
   ]
  },
  {
   "cell_type": "code",
   "execution_count": 23,
   "metadata": {},
   "outputs": [],
   "source": [
    "import textwrap\n",
    "\n",
    "with open(\"/tmp/query.fa\", \"wt\") as out:\n",
    "    print(\">query\", file=out)\n",
    "    print(*textwrap.wrap(str(ref_cds)), file=out, sep=\"\\n\")\n",
    "    \n",
    "with open(\"/tmp/db.fa\", \"wt\") as out:\n",
    "    print(\">sub\", file=out)\n",
    "    print(*textwrap.wrap(tar_cdna), file=out, sep=\"\\n\")"
   ]
  },
  {
   "cell_type": "code",
   "execution_count": 32,
   "metadata": {},
   "outputs": [
    {
     "name": "stdout",
     "output_type": "stream",
     "text": [
      "MRVIALSAGVTPSLRIGLPMCKCRSHGTFLLFGLQSSHLNICYYHQDLPRRPLCPGSRPGFCSGRRALLLIGAWRSSRWPGVGRAL*\n"
     ]
    }
   ],
   "source": [
    "ref_pep = str(ref_pep)\n",
    "print(ref_pep)"
   ]
  },
  {
   "cell_type": "code",
   "execution_count": 35,
   "metadata": {},
   "outputs": [],
   "source": [
    "frames = dict()\n",
    "for num in range(3):\n",
    "    frames[num] = str(Bio.Seq.Seq(str(tar_cdna[num:])).translate())"
   ]
  },
  {
   "cell_type": "code",
   "execution_count": 128,
   "metadata": {},
   "outputs": [],
   "source": [
    "frame_res = dict()\n",
    "for num in range(3):\n",
    "    frame_res[num] = parasail.sg_trace_scan_32(ref_pep, frames[num], 3, 1, parasail.blosum85)\n",
    "    \n",
    "    "
   ]
  },
  {
   "cell_type": "code",
   "execution_count": 129,
   "metadata": {},
   "outputs": [
    {
     "name": "stdout",
     "output_type": "stream",
     "text": [
      "1 b'126D30=1X15=5I2=1X12=1X9=1X6=1X2=1I223D' 447\n",
      "\n"
     ]
    }
   ],
   "source": [
    "for num in [1]:\n",
    "    print(num, frame_res[num].cigar.decode, frame_res[num].score)\n",
    "    print()"
   ]
  },
  {
   "cell_type": "code",
   "execution_count": 92,
   "metadata": {},
   "outputs": [
    {
     "name": "stdout",
     "output_type": "stream",
     "text": [
      "MRVIALSAGVTPSLRIGLPMCKCRSHGTFLIFGLQSSHLNICYYHQ-----PL\n",
      "||||||||||||||||||||||||||||||X|||||||||||||||     || X|\n",
      "MRVIALSAGVTPSLRIGLPMCKCRSHGTFLLFGLQSSHLNICYYHQDLPRRPL-CP\n"
     ]
    }
   ],
   "source": [
    "print(frames[1][126:126+46] + \"-\" * 5 + frames[1][126+46:126+46+2])\n",
    "print(\"|\" * 30 + \"X\" + \"|\" * 15 + \" \" * 5 + \"|\" * 2 + \" \" + \"X\" + \"|\")\n",
    "print(ref_pep[:53] + \"-\" + ref_pep[53:53+2])"
   ]
  },
  {
   "cell_type": "code",
   "execution_count": 96,
   "metadata": {},
   "outputs": [],
   "source": [
    "values = [(30, \"=\"), (1, \"X\"), (15, \"=\"), (5, \"I\"), (2, \"=\"), (1, \"X\"), (12, \"=\"), (1, \"X\"), (9, \"=\"), (1, \"X\"), (6, \"=\"), (1, \"X\"), (2, \"=\")]"
   ]
  },
  {
   "cell_type": "code",
   "execution_count": 130,
   "metadata": {},
   "outputs": [],
   "source": [
    "ref_str = \"\"\n",
    "middle = \"\"\n",
    "tar_str = \"\"\n",
    "\n",
    "tar_pep = frames[1][126:]\n",
    "ref_pos, tar_pos = 0, 0\n",
    "\n",
    "\n",
    "for l, code in values:\n",
    "    if code in (\"=\", \"X\"):\n",
    "        ref_str += ref_pep[ref_pos:ref_pos + l]\n",
    "        if code == \"=\":\n",
    "            char = \"|\"\n",
    "        else:\n",
    "            char = \"X\"\n",
    "        middle += char * l\n",
    "        tar_str += tar_pep[tar_pos:tar_pos + l]\n",
    "        tar_pos +=l\n",
    "        ref_pos +=l\n",
    "    elif code == \"I\":\n",
    "        ref_str += ref_pep[ref_pos:ref_pos + l]\n",
    "        tar_str += \"-\" * l\n",
    "        middle += \" \" * l\n",
    "        ref_pos += l\n",
    "    elif code == \"D\":\n",
    "        tar_str += tar_pep[tar_pos: tar_pos + l]\n",
    "        ref_str += \"-\" * l\n",
    "        middle += \" \" * l\n",
    "        tar_pos += l\n",
    "    "
   ]
  },
  {
   "cell_type": "code",
   "execution_count": 131,
   "metadata": {},
   "outputs": [
    {
     "name": "stdout",
     "output_type": "stream",
     "text": [
      "MRVIALSAGVTPSLRIGLPMCKCRSHGTFLLFGLQSSHLNICYYHQDLPRRPLCPGSRPGFCSGRRALLLIGAWRSSRWPGVGRAL\n",
      "||||||||||||||||||||||||||||||X|||||||||||||||     ||X||||||||||||X|||||||||X||||||X||\n",
      "MRVIALSAGVTPSLRIGLPMCKCRSHGTFLIFGLQSSHLNICYYHQ-----PLHPGSRPGFCSGRRSLLLIGAWRSPRWPGVGHAL\n"
     ]
    }
   ],
   "source": [
    "print(ref_str)\n",
    "print(middle)\n",
    "print(tar_str)"
   ]
  },
  {
   "cell_type": "code",
   "execution_count": 101,
   "metadata": {},
   "outputs": [
    {
     "data": {
      "text/plain": [
       "'MRVIALSAGVTPSLRIGLPMCKCRSHGTFLIFGLQSSHLNICYYHQPLHPGSRPGFCSGRRSLLLIGAWRSPRWPGVGHALQRHPFSGLVDSAGELLHTP*RISTSMTTVLLS*STNTLCVF*VSAQLGTVTRLPVHPASPVLLTKNGPLGAPDSVARLTESVAPSYLFKV*E*VEDVASPMPLIISFT**NS*WAPAILRETSEGTSY*MV*LVFRPYNQVRRTICTLVLLRASTRVSSGFALLRHSSPSFGSRQACSNSNPSQKIRVSQRCGP*GPPARQLPCASQVSEPVDSHACQTPWSV'"
      ]
     },
     "execution_count": 101,
     "metadata": {},
     "output_type": "execute_result"
    }
   ],
   "source": [
    "frames[1][126:]"
   ]
  },
  {
   "cell_type": "code",
   "execution_count": 112,
   "metadata": {},
   "outputs": [
    {
     "name": "stdout",
     "output_type": "stream",
     "text": [
      "86\n"
     ]
    }
   ],
   "source": [
    "print(len(tar_str))"
   ]
  },
  {
   "cell_type": "code",
   "execution_count": 107,
   "metadata": {},
   "outputs": [
    {
     "name": "stdout",
     "output_type": "stream",
     "text": [
      "378\n"
     ]
    }
   ],
   "source": [
    "print(126*3)"
   ]
  },
  {
   "cell_type": "code",
   "execution_count": 119,
   "metadata": {},
   "outputs": [
    {
     "name": "stdout",
     "output_type": "stream",
     "text": [
      "MRVIALSAGVTPSLRIGLPMCKCRSHGTFLIFGLQSSHLNICYYHQ-----PLHPGSRPGFCSGRRSLLLIGAWRSPRWPGVGHALQRHPFSGLVDSAGELLHTP\n"
     ]
    }
   ],
   "source": [
    "print(tar_str +   str(Bio.Seq.Seq(str(tar_cdna[379+81 * 3:])).translate(to_stop=True)))"
   ]
  },
  {
   "cell_type": "code",
   "execution_count": 116,
   "metadata": {},
   "outputs": [
    {
     "name": "stdout",
     "output_type": "stream",
     "text": [
      "MRVIALSAGVTPSLRIGLPMCKCRSHGTFLLFGLQSSHLNICYYHQDLPRRPLCPGSRPGFCSGRRALLLIGAWRSSRWPGVGRAL*\n"
     ]
    }
   ],
   "source": [
    "print(ref_pep)"
   ]
  },
  {
   "cell_type": "code",
   "execution_count": 120,
   "metadata": {},
   "outputs": [
    {
     "name": "stdout",
     "output_type": "stream",
     "text": [
      "MRVIALSAGVTPSLRIGLPMCKCRSHGTFLLFGLQSSHLNICYYHQDLPRRPLCPGSRPGFCSGRRALLLIGAWRSSRWPGVGRAL*\n",
      "||||||||||||||||||||||||||||||X|||||||||||||||     ||X||||||||||||X|||||||||X||||||X||\n",
      "MRVIALSAGVTPSLRIGLPMCKCRSHGTFLIFGLQSSHLNICYYHQ-----PLHPGSRPGFCSGRRSLLLIGAWRSPRWPGVGHALQRHPFSGLVDSAGELLHTP\n"
     ]
    }
   ],
   "source": [
    "print(ref_pep)\n",
    "print(middle)\n",
    "print(tar_str +   str(Bio.Seq.Seq(str(tar_cdna[379+81 * 3:])).translate(to_stop=True)))"
   ]
  },
  {
   "cell_type": "code",
   "execution_count": 182,
   "metadata": {},
   "outputs": [
    {
     "name": "stdout",
     "output_type": "stream",
     "text": [
      "Triticum_aestivum_CS42_TGACv1_scaffold_021338_1AS\tTriticum_aestivum_TGACv1_all\tmRNA\t1310\t2602\t.\t+\t.\tID=TraesCS1A01G000100.1.mrna1;Name=TraesCS1A01G000100.1;Parent=TraesCS1A01G000100.1.path1;coverage=100.0;identity=96.6;matches=1263;mismatches=30;indels=15;unknowns=0\n",
      "Triticum_aestivum_CS42_TGACv1_scaffold_021338_1AS\tTriticum_aestivum_TGACv1_all\texon\t1310\t2602\t96\t+\t.\tID=TraesCS1A01G000100.1.mrna1.exon1;Name=TraesCS1A01G000100.1;Parent=TraesCS1A01G000100.1.mrna1;Target=TraesCS1A01G000100.1 1308 1 .\n",
      "Triticum_aestivum_CS42_TGACv1_scaffold_021338_1AS\tTriticum_aestivum_TGACv1_all\tCDS\t1689\t1991\t92\t+\t0\tID=TraesCS1A01G000100.1.mrna1.cds1;Name=TraesCS1A01G000100.1;Parent=TraesCS1A01G000100.1.mrna1;Target=TraesCS1A01G000100.1 697 380 .\n"
     ]
    }
   ],
   "source": [
    "! grep TraesCS1A01G000100.1.mrna1 target.gff3"
   ]
  },
  {
   "cell_type": "code",
   "execution_count": 184,
   "metadata": {},
   "outputs": [],
   "source": [
    "tar = Mikado.transcripts.Transcript(Mikado.parsers.GFF.GffLine(\"Triticum_aestivum_CS42_TGACv1_scaffold_021338_1AS\tTriticum_aestivum_TGACv1_all\tmRNA\t1310\t2602\t.\t+\t.\tID=TraesCS1A01G000100.1.mrna1;Name=TraesCS1A01G000100.1;Parent=TraesCS1A01G000100.1.path1;coverage=100.0;identity=96.6;matches=1263;mismatches=30;indels=15;unknowns=0\"))\n",
    "tar.add_exons([(1310, 2602)])\n",
    "tar.add_exons([(1689, 1991)], features=\"CDS\")\n",
    "tar.finalize()\n"
   ]
  },
  {
   "cell_type": "code",
   "execution_count": 192,
   "metadata": {},
   "outputs": [
    {
     "name": "stderr",
     "output_type": "stream",
     "text": [
      "2018-04-25 15:47:38,347 - test - finalizing.py:57 - DEBUG - __basic_final_checks - MainProcess - Converting to tuples\n",
      "2018-04-25 15:47:38,347 - test - finalizing.py:57 - DEBUG - __basic_final_checks - MainProcess - Converting to tuples\n",
      "2018-04-25 15:47:38,347 - test - finalizing.py:57 - DEBUG - __basic_final_checks - MainProcess - Converting to tuples\n",
      "2018-04-25 15:47:38,347 - test - finalizing.py:57 - DEBUG - __basic_final_checks - MainProcess - Converting to tuples\n",
      "2018-04-25 15:47:38,347 - test - finalizing.py:57 - DEBUG - __basic_final_checks - MainProcess - Converting to tuples\n",
      "2018-04-25 15:47:38,347 - test - finalizing.py:57 - DEBUG - __basic_final_checks - MainProcess - Converting to tuples\n",
      "2018-04-25 15:47:38,369 - test - finalizing.py:117 - DEBUG - _check_cdna_vs_utr - MainProcess - Checking the cDNA for TraesCS1A01G000100.1.mrna1\n",
      "2018-04-25 15:47:38,369 - test - finalizing.py:117 - DEBUG - _check_cdna_vs_utr - MainProcess - Checking the cDNA for TraesCS1A01G000100.1.mrna1\n",
      "2018-04-25 15:47:38,369 - test - finalizing.py:117 - DEBUG - _check_cdna_vs_utr - MainProcess - Checking the cDNA for TraesCS1A01G000100.1.mrna1\n",
      "2018-04-25 15:47:38,369 - test - finalizing.py:117 - DEBUG - _check_cdna_vs_utr - MainProcess - Checking the cDNA for TraesCS1A01G000100.1.mrna1\n",
      "2018-04-25 15:47:38,369 - test - finalizing.py:117 - DEBUG - _check_cdna_vs_utr - MainProcess - Checking the cDNA for TraesCS1A01G000100.1.mrna1\n",
      "2018-04-25 15:47:38,369 - test - finalizing.py:117 - DEBUG - _check_cdna_vs_utr - MainProcess - Checking the cDNA for TraesCS1A01G000100.1.mrna1\n",
      "2018-04-25 15:47:38,391 - test - finalizing.py:121 - DEBUG - _check_cdna_vs_utr - MainProcess - TraesCS1A01G000100.1.mrna1 is non coding, returning\n",
      "2018-04-25 15:47:38,391 - test - finalizing.py:121 - DEBUG - _check_cdna_vs_utr - MainProcess - TraesCS1A01G000100.1.mrna1 is non coding, returning\n",
      "2018-04-25 15:47:38,391 - test - finalizing.py:121 - DEBUG - _check_cdna_vs_utr - MainProcess - TraesCS1A01G000100.1.mrna1 is non coding, returning\n",
      "2018-04-25 15:47:38,391 - test - finalizing.py:121 - DEBUG - _check_cdna_vs_utr - MainProcess - TraesCS1A01G000100.1.mrna1 is non coding, returning\n",
      "2018-04-25 15:47:38,391 - test - finalizing.py:121 - DEBUG - _check_cdna_vs_utr - MainProcess - TraesCS1A01G000100.1.mrna1 is non coding, returning\n",
      "2018-04-25 15:47:38,391 - test - finalizing.py:121 - DEBUG - _check_cdna_vs_utr - MainProcess - TraesCS1A01G000100.1.mrna1 is non coding, returning\n",
      "2018-04-25 15:47:38,411 - test - finalizing.py:626 - DEBUG - finalize - MainProcess - Verifying phase correctness for TraesCS1A01G000100.1.mrna1\n",
      "2018-04-25 15:47:38,411 - test - finalizing.py:626 - DEBUG - finalize - MainProcess - Verifying phase correctness for TraesCS1A01G000100.1.mrna1\n",
      "2018-04-25 15:47:38,411 - test - finalizing.py:626 - DEBUG - finalize - MainProcess - Verifying phase correctness for TraesCS1A01G000100.1.mrna1\n",
      "2018-04-25 15:47:38,411 - test - finalizing.py:626 - DEBUG - finalize - MainProcess - Verifying phase correctness for TraesCS1A01G000100.1.mrna1\n",
      "2018-04-25 15:47:38,411 - test - finalizing.py:626 - DEBUG - finalize - MainProcess - Verifying phase correctness for TraesCS1A01G000100.1.mrna1\n",
      "2018-04-25 15:47:38,411 - test - finalizing.py:626 - DEBUG - finalize - MainProcess - Verifying phase correctness for TraesCS1A01G000100.1.mrna1\n",
      "2018-04-25 15:47:38,424 - test - finalizing.py:491 - DEBUG - __check_phase_correctness - MainProcess - Redefining segments for TraesCS1A01G000100.1.mrna1\n",
      "2018-04-25 15:47:38,424 - test - finalizing.py:491 - DEBUG - __check_phase_correctness - MainProcess - Redefining segments for TraesCS1A01G000100.1.mrna1\n",
      "2018-04-25 15:47:38,424 - test - finalizing.py:491 - DEBUG - __check_phase_correctness - MainProcess - Redefining segments for TraesCS1A01G000100.1.mrna1\n",
      "2018-04-25 15:47:38,424 - test - finalizing.py:491 - DEBUG - __check_phase_correctness - MainProcess - Redefining segments for TraesCS1A01G000100.1.mrna1\n",
      "2018-04-25 15:47:38,424 - test - finalizing.py:491 - DEBUG - __check_phase_correctness - MainProcess - Redefining segments for TraesCS1A01G000100.1.mrna1\n",
      "2018-04-25 15:47:38,424 - test - finalizing.py:491 - DEBUG - __check_phase_correctness - MainProcess - Redefining segments for TraesCS1A01G000100.1.mrna1\n",
      "2018-04-25 15:47:38,437 - test - finalizing.py:515 - DEBUG - __check_phase_correctness - MainProcess - TraesCS1A01G000100.1.mrna1 has 0 internal ORF\n",
      "2018-04-25 15:47:38,437 - test - finalizing.py:515 - DEBUG - __check_phase_correctness - MainProcess - TraesCS1A01G000100.1.mrna1 has 0 internal ORF\n",
      "2018-04-25 15:47:38,437 - test - finalizing.py:515 - DEBUG - __check_phase_correctness - MainProcess - TraesCS1A01G000100.1.mrna1 has 0 internal ORF\n",
      "2018-04-25 15:47:38,437 - test - finalizing.py:515 - DEBUG - __check_phase_correctness - MainProcess - TraesCS1A01G000100.1.mrna1 has 0 internal ORF\n",
      "2018-04-25 15:47:38,437 - test - finalizing.py:515 - DEBUG - __check_phase_correctness - MainProcess - TraesCS1A01G000100.1.mrna1 has 0 internal ORF\n",
      "2018-04-25 15:47:38,437 - test - finalizing.py:515 - DEBUG - __check_phase_correctness - MainProcess - TraesCS1A01G000100.1.mrna1 has 0 internal ORF\n",
      "2018-04-25 15:47:38,450 - test - finalizing.py:628 - DEBUG - finalize - MainProcess - Calculating intron correctness for TraesCS1A01G000100.1.mrna1\n",
      "2018-04-25 15:47:38,450 - test - finalizing.py:628 - DEBUG - finalize - MainProcess - Calculating intron correctness for TraesCS1A01G000100.1.mrna1\n",
      "2018-04-25 15:47:38,450 - test - finalizing.py:628 - DEBUG - finalize - MainProcess - Calculating intron correctness for TraesCS1A01G000100.1.mrna1\n",
      "2018-04-25 15:47:38,450 - test - finalizing.py:628 - DEBUG - finalize - MainProcess - Calculating intron correctness for TraesCS1A01G000100.1.mrna1\n",
      "2018-04-25 15:47:38,450 - test - finalizing.py:628 - DEBUG - finalize - MainProcess - Calculating intron correctness for TraesCS1A01G000100.1.mrna1\n",
      "2018-04-25 15:47:38,450 - test - finalizing.py:628 - DEBUG - finalize - MainProcess - Calculating intron correctness for TraesCS1A01G000100.1.mrna1\n",
      "2018-04-25 15:47:38,466 - test - finalizing.py:660 - DEBUG - finalize - MainProcess - Finished finalising TraesCS1A01G000100.1.mrna1\n",
      "2018-04-25 15:47:38,466 - test - finalizing.py:660 - DEBUG - finalize - MainProcess - Finished finalising TraesCS1A01G000100.1.mrna1\n",
      "2018-04-25 15:47:38,466 - test - finalizing.py:660 - DEBUG - finalize - MainProcess - Finished finalising TraesCS1A01G000100.1.mrna1\n",
      "2018-04-25 15:47:38,466 - test - finalizing.py:660 - DEBUG - finalize - MainProcess - Finished finalising TraesCS1A01G000100.1.mrna1\n",
      "2018-04-25 15:47:38,466 - test - finalizing.py:660 - DEBUG - finalize - MainProcess - Finished finalising TraesCS1A01G000100.1.mrna1\n",
      "2018-04-25 15:47:38,466 - test - finalizing.py:660 - DEBUG - finalize - MainProcess - Finished finalising TraesCS1A01G000100.1.mrna1\n",
      "2018-04-25 15:47:38,478 - test - retrieval.py:57 - DEBUG - load_orfs - MainProcess - Finding the candidate ORFS out of 1 .. \n",
      "2018-04-25 15:47:38,478 - test - retrieval.py:57 - DEBUG - load_orfs - MainProcess - Finding the candidate ORFS out of 1 .. \n",
      "2018-04-25 15:47:38,478 - test - retrieval.py:57 - DEBUG - load_orfs - MainProcess - Finding the candidate ORFS out of 1 .. \n",
      "2018-04-25 15:47:38,478 - test - retrieval.py:57 - DEBUG - load_orfs - MainProcess - Finding the candidate ORFS out of 1 .. \n",
      "2018-04-25 15:47:38,478 - test - retrieval.py:57 - DEBUG - load_orfs - MainProcess - Finding the candidate ORFS out of 1 .. \n",
      "2018-04-25 15:47:38,478 - test - retrieval.py:57 - DEBUG - load_orfs - MainProcess - Finding the candidate ORFS out of 1 .. \n",
      "2018-04-25 15:47:38,498 - test - retrieval.py:431 - DEBUG - find_overlapping_cds - MainProcess - Minimal orf loading: 0\n",
      "2018-04-25 15:47:38,498 - test - retrieval.py:431 - DEBUG - find_overlapping_cds - MainProcess - Minimal orf loading: 0\n",
      "2018-04-25 15:47:38,498 - test - retrieval.py:431 - DEBUG - find_overlapping_cds - MainProcess - Minimal orf loading: 0\n",
      "2018-04-25 15:47:38,498 - test - retrieval.py:431 - DEBUG - find_overlapping_cds - MainProcess - Minimal orf loading: 0\n",
      "2018-04-25 15:47:38,498 - test - retrieval.py:431 - DEBUG - find_overlapping_cds - MainProcess - Minimal orf loading: 0\n",
      "2018-04-25 15:47:38,498 - test - retrieval.py:431 - DEBUG - find_overlapping_cds - MainProcess - Minimal orf loading: 0\n",
      "2018-04-25 15:47:38,514 - test - retrieval.py:433 - DEBUG - find_overlapping_cds - MainProcess - 1 input ORFs for TraesCS1A01G000100.1.mrna1\n",
      "2018-04-25 15:47:38,514 - test - retrieval.py:433 - DEBUG - find_overlapping_cds - MainProcess - 1 input ORFs for TraesCS1A01G000100.1.mrna1\n",
      "2018-04-25 15:47:38,514 - test - retrieval.py:433 - DEBUG - find_overlapping_cds - MainProcess - 1 input ORFs for TraesCS1A01G000100.1.mrna1\n",
      "2018-04-25 15:47:38,514 - test - retrieval.py:433 - DEBUG - find_overlapping_cds - MainProcess - 1 input ORFs for TraesCS1A01G000100.1.mrna1\n",
      "2018-04-25 15:47:38,514 - test - retrieval.py:433 - DEBUG - find_overlapping_cds - MainProcess - 1 input ORFs for TraesCS1A01G000100.1.mrna1\n",
      "2018-04-25 15:47:38,514 - test - retrieval.py:433 - DEBUG - find_overlapping_cds - MainProcess - 1 input ORFs for TraesCS1A01G000100.1.mrna1\n",
      "2018-04-25 15:47:38,527 - test - retrieval.py:447 - DEBUG - find_overlapping_cds - MainProcess - 1 filtered ORFs for TraesCS1A01G000100.1.mrna1\n",
      "2018-04-25 15:47:38,527 - test - retrieval.py:447 - DEBUG - find_overlapping_cds - MainProcess - 1 filtered ORFs for TraesCS1A01G000100.1.mrna1\n",
      "2018-04-25 15:47:38,527 - test - retrieval.py:447 - DEBUG - find_overlapping_cds - MainProcess - 1 filtered ORFs for TraesCS1A01G000100.1.mrna1\n",
      "2018-04-25 15:47:38,527 - test - retrieval.py:447 - DEBUG - find_overlapping_cds - MainProcess - 1 filtered ORFs for TraesCS1A01G000100.1.mrna1\n",
      "2018-04-25 15:47:38,527 - test - retrieval.py:447 - DEBUG - find_overlapping_cds - MainProcess - 1 filtered ORFs for TraesCS1A01G000100.1.mrna1\n",
      "2018-04-25 15:47:38,527 - test - retrieval.py:447 - DEBUG - find_overlapping_cds - MainProcess - 1 filtered ORFs for TraesCS1A01G000100.1.mrna1\n",
      "2018-04-25 15:47:38,541 - test - clique_methods.py:98 - DEBUG - find_cliques - MainProcess - Creating cliques for test\n"
     ]
    },
    {
     "name": "stdout",
     "output_type": "stream",
     "text": [
      "TraesCS1A01G000100.1.mrna1\t0\t1293\tTraesCS1A01G000100.1.mrna1\t0\t+\t379\t682\t0\t1\t1293\t0\n",
      "TraesCS1A01G000100.1.mrna1\t0\t1293\tTraesCS1A01G000100.1.mrna1\t0\t+\t379\t682\t0\t1\t1293\t0\n",
      "True False \n"
     ]
    },
    {
     "name": "stderr",
     "output_type": "stream",
     "text": [
      "2018-04-25 15:47:38,541 - test - clique_methods.py:98 - DEBUG - find_cliques - MainProcess - Creating cliques for test\n",
      "2018-04-25 15:47:38,541 - test - clique_methods.py:98 - DEBUG - find_cliques - MainProcess - Creating cliques for test\n",
      "2018-04-25 15:47:38,541 - test - clique_methods.py:98 - DEBUG - find_cliques - MainProcess - Creating cliques for test\n",
      "2018-04-25 15:47:38,541 - test - clique_methods.py:98 - DEBUG - find_cliques - MainProcess - Creating cliques for test\n",
      "2018-04-25 15:47:38,541 - test - clique_methods.py:98 - DEBUG - find_cliques - MainProcess - Creating cliques for test\n",
      "2018-04-25 15:47:38,561 - test - clique_methods.py:100 - DEBUG - find_cliques - MainProcess - Created 1 cliques for test\n",
      "2018-04-25 15:47:38,561 - test - clique_methods.py:100 - DEBUG - find_cliques - MainProcess - Created 1 cliques for test\n",
      "2018-04-25 15:47:38,561 - test - clique_methods.py:100 - DEBUG - find_cliques - MainProcess - Created 1 cliques for test\n",
      "2018-04-25 15:47:38,561 - test - clique_methods.py:100 - DEBUG - find_cliques - MainProcess - Created 1 cliques for test\n",
      "2018-04-25 15:47:38,561 - test - clique_methods.py:100 - DEBUG - find_cliques - MainProcess - Created 1 cliques for test\n",
      "2018-04-25 15:47:38,561 - test - clique_methods.py:100 - DEBUG - find_cliques - MainProcess - Created 1 cliques for test\n",
      "2018-04-25 15:47:38,575 - test - clique_methods.py:34 - DEBUG - find_communities - MainProcess - Creating the communities for test\n",
      "2018-04-25 15:47:38,575 - test - clique_methods.py:34 - DEBUG - find_communities - MainProcess - Creating the communities for test\n",
      "2018-04-25 15:47:38,575 - test - clique_methods.py:34 - DEBUG - find_communities - MainProcess - Creating the communities for test\n",
      "2018-04-25 15:47:38,575 - test - clique_methods.py:34 - DEBUG - find_communities - MainProcess - Creating the communities for test\n",
      "2018-04-25 15:47:38,575 - test - clique_methods.py:34 - DEBUG - find_communities - MainProcess - Creating the communities for test\n",
      "2018-04-25 15:47:38,575 - test - clique_methods.py:34 - DEBUG - find_communities - MainProcess - Creating the communities for test\n",
      "2018-04-25 15:47:38,587 - test - clique_methods.py:38 - DEBUG - find_communities - MainProcess - Communities for test:\n",
      "\t\tfrozenset({'TraesCS1A01G000100.1.mrna1'})\n",
      "2018-04-25 15:47:38,587 - test - clique_methods.py:38 - DEBUG - find_communities - MainProcess - Communities for test:\n",
      "\t\tfrozenset({'TraesCS1A01G000100.1.mrna1'})\n",
      "2018-04-25 15:47:38,587 - test - clique_methods.py:38 - DEBUG - find_communities - MainProcess - Communities for test:\n",
      "\t\tfrozenset({'TraesCS1A01G000100.1.mrna1'})\n",
      "2018-04-25 15:47:38,587 - test - clique_methods.py:38 - DEBUG - find_communities - MainProcess - Communities for test:\n",
      "\t\tfrozenset({'TraesCS1A01G000100.1.mrna1'})\n",
      "2018-04-25 15:47:38,587 - test - clique_methods.py:38 - DEBUG - find_communities - MainProcess - Communities for test:\n",
      "\t\tfrozenset({'TraesCS1A01G000100.1.mrna1'})\n",
      "2018-04-25 15:47:38,587 - test - clique_methods.py:38 - DEBUG - find_communities - MainProcess - Communities for test:\n",
      "\t\tfrozenset({'TraesCS1A01G000100.1.mrna1'})\n",
      "2018-04-25 15:47:38,593 - test - retrieval.py:705 - DEBUG - find_candidate_orfs - MainProcess - 1 communities for TraesCS1A01G000100.1.mrna1:\n",
      "\t[(380, 682)]\n",
      "2018-04-25 15:47:38,593 - test - retrieval.py:705 - DEBUG - find_candidate_orfs - MainProcess - 1 communities for TraesCS1A01G000100.1.mrna1:\n",
      "\t[(380, 682)]\n",
      "2018-04-25 15:47:38,593 - test - retrieval.py:705 - DEBUG - find_candidate_orfs - MainProcess - 1 communities for TraesCS1A01G000100.1.mrna1:\n",
      "\t[(380, 682)]\n",
      "2018-04-25 15:47:38,593 - test - retrieval.py:705 - DEBUG - find_candidate_orfs - MainProcess - 1 communities for TraesCS1A01G000100.1.mrna1:\n",
      "\t[(380, 682)]\n",
      "2018-04-25 15:47:38,593 - test - retrieval.py:705 - DEBUG - find_candidate_orfs - MainProcess - 1 communities for TraesCS1A01G000100.1.mrna1:\n",
      "\t[(380, 682)]\n",
      "2018-04-25 15:47:38,593 - test - retrieval.py:705 - DEBUG - find_candidate_orfs - MainProcess - 1 communities for TraesCS1A01G000100.1.mrna1:\n",
      "\t[(380, 682)]\n",
      "2018-04-25 15:47:38,599 - test - retrieval.py:709 - DEBUG - find_candidate_orfs - MainProcess - 1 cliques for TraesCS1A01G000100.1.mrna1:\n",
      "\t[(380, 682)]\n",
      "2018-04-25 15:47:38,599 - test - retrieval.py:709 - DEBUG - find_candidate_orfs - MainProcess - 1 cliques for TraesCS1A01G000100.1.mrna1:\n",
      "\t[(380, 682)]\n",
      "2018-04-25 15:47:38,599 - test - retrieval.py:709 - DEBUG - find_candidate_orfs - MainProcess - 1 cliques for TraesCS1A01G000100.1.mrna1:\n",
      "\t[(380, 682)]\n",
      "2018-04-25 15:47:38,599 - test - retrieval.py:709 - DEBUG - find_candidate_orfs - MainProcess - 1 cliques for TraesCS1A01G000100.1.mrna1:\n",
      "\t[(380, 682)]\n",
      "2018-04-25 15:47:38,599 - test - retrieval.py:709 - DEBUG - find_candidate_orfs - MainProcess - 1 cliques for TraesCS1A01G000100.1.mrna1:\n",
      "\t[(380, 682)]\n",
      "2018-04-25 15:47:38,599 - test - retrieval.py:709 - DEBUG - find_candidate_orfs - MainProcess - 1 cliques for TraesCS1A01G000100.1.mrna1:\n",
      "\t[(380, 682)]\n",
      "2018-04-25 15:47:38,605 - test - retrieval.py:460 - DEBUG - find_overlapping_cds - MainProcess - 1 candidate retained ORFs for TraesCS1A01G000100.1.mrna1: ['TraesCS1A01G000100.1.mrna1']\n",
      "2018-04-25 15:47:38,605 - test - retrieval.py:460 - DEBUG - find_overlapping_cds - MainProcess - 1 candidate retained ORFs for TraesCS1A01G000100.1.mrna1: ['TraesCS1A01G000100.1.mrna1']\n",
      "2018-04-25 15:47:38,605 - test - retrieval.py:460 - DEBUG - find_overlapping_cds - MainProcess - 1 candidate retained ORFs for TraesCS1A01G000100.1.mrna1: ['TraesCS1A01G000100.1.mrna1']\n",
      "2018-04-25 15:47:38,605 - test - retrieval.py:460 - DEBUG - find_overlapping_cds - MainProcess - 1 candidate retained ORFs for TraesCS1A01G000100.1.mrna1: ['TraesCS1A01G000100.1.mrna1']\n",
      "2018-04-25 15:47:38,605 - test - retrieval.py:460 - DEBUG - find_overlapping_cds - MainProcess - 1 candidate retained ORFs for TraesCS1A01G000100.1.mrna1: ['TraesCS1A01G000100.1.mrna1']\n",
      "2018-04-25 15:47:38,605 - test - retrieval.py:460 - DEBUG - find_overlapping_cds - MainProcess - 1 candidate retained ORFs for TraesCS1A01G000100.1.mrna1: ['TraesCS1A01G000100.1.mrna1']\n",
      "2018-04-25 15:47:38,611 - test - retrieval.py:474 - DEBUG - find_overlapping_cds - MainProcess - Retained 1 ORFs for TraesCS1A01G000100.1.mrna1: ['TraesCS1A01G000100.1.mrna1']\n",
      "2018-04-25 15:47:38,611 - test - retrieval.py:474 - DEBUG - find_overlapping_cds - MainProcess - Retained 1 ORFs for TraesCS1A01G000100.1.mrna1: ['TraesCS1A01G000100.1.mrna1']\n",
      "2018-04-25 15:47:38,611 - test - retrieval.py:474 - DEBUG - find_overlapping_cds - MainProcess - Retained 1 ORFs for TraesCS1A01G000100.1.mrna1: ['TraesCS1A01G000100.1.mrna1']\n",
      "2018-04-25 15:47:38,611 - test - retrieval.py:474 - DEBUG - find_overlapping_cds - MainProcess - Retained 1 ORFs for TraesCS1A01G000100.1.mrna1: ['TraesCS1A01G000100.1.mrna1']\n",
      "2018-04-25 15:47:38,611 - test - retrieval.py:474 - DEBUG - find_overlapping_cds - MainProcess - Retained 1 ORFs for TraesCS1A01G000100.1.mrna1: ['TraesCS1A01G000100.1.mrna1']\n",
      "2018-04-25 15:47:38,611 - test - retrieval.py:474 - DEBUG - find_overlapping_cds - MainProcess - Retained 1 ORFs for TraesCS1A01G000100.1.mrna1: ['TraesCS1A01G000100.1.mrna1']\n",
      "2018-04-25 15:47:38,618 - test - retrieval.py:61 - DEBUG - load_orfs - MainProcess - Retained 1 candidate ORFS\n",
      "2018-04-25 15:47:38,618 - test - retrieval.py:61 - DEBUG - load_orfs - MainProcess - Retained 1 candidate ORFS\n",
      "2018-04-25 15:47:38,618 - test - retrieval.py:61 - DEBUG - load_orfs - MainProcess - Retained 1 candidate ORFS\n",
      "2018-04-25 15:47:38,618 - test - retrieval.py:61 - DEBUG - load_orfs - MainProcess - Retained 1 candidate ORFS\n",
      "2018-04-25 15:47:38,618 - test - retrieval.py:61 - DEBUG - load_orfs - MainProcess - Retained 1 candidate ORFS\n",
      "2018-04-25 15:47:38,618 - test - retrieval.py:61 - DEBUG - load_orfs - MainProcess - Retained 1 candidate ORFS\n",
      "2018-04-25 15:47:38,624 - test - retrieval.py:130 - DEBUG - check_loaded_orfs - MainProcess - Found 1 ORF for TraesCS1A01G000100.1.mrna1\n",
      "2018-04-25 15:47:38,624 - test - retrieval.py:130 - DEBUG - check_loaded_orfs - MainProcess - Found 1 ORF for TraesCS1A01G000100.1.mrna1\n",
      "2018-04-25 15:47:38,624 - test - retrieval.py:130 - DEBUG - check_loaded_orfs - MainProcess - Found 1 ORF for TraesCS1A01G000100.1.mrna1\n",
      "2018-04-25 15:47:38,624 - test - retrieval.py:130 - DEBUG - check_loaded_orfs - MainProcess - Found 1 ORF for TraesCS1A01G000100.1.mrna1\n",
      "2018-04-25 15:47:38,624 - test - retrieval.py:130 - DEBUG - check_loaded_orfs - MainProcess - Found 1 ORF for TraesCS1A01G000100.1.mrna1\n",
      "2018-04-25 15:47:38,624 - test - retrieval.py:130 - DEBUG - check_loaded_orfs - MainProcess - Found 1 ORF for TraesCS1A01G000100.1.mrna1\n",
      "2018-04-25 15:47:38,631 - test - finalizing.py:57 - DEBUG - __basic_final_checks - MainProcess - Converting to tuples\n",
      "2018-04-25 15:47:38,631 - test - finalizing.py:57 - DEBUG - __basic_final_checks - MainProcess - Converting to tuples\n",
      "2018-04-25 15:47:38,631 - test - finalizing.py:57 - DEBUG - __basic_final_checks - MainProcess - Converting to tuples\n",
      "2018-04-25 15:47:38,631 - test - finalizing.py:57 - DEBUG - __basic_final_checks - MainProcess - Converting to tuples\n",
      "2018-04-25 15:47:38,631 - test - finalizing.py:57 - DEBUG - __basic_final_checks - MainProcess - Converting to tuples\n",
      "2018-04-25 15:47:38,631 - test - finalizing.py:57 - DEBUG - __basic_final_checks - MainProcess - Converting to tuples\n",
      "2018-04-25 15:47:38,637 - test - finalizing.py:117 - DEBUG - _check_cdna_vs_utr - MainProcess - Checking the cDNA for TraesCS1A01G000100.1.mrna1\n",
      "2018-04-25 15:47:38,637 - test - finalizing.py:117 - DEBUG - _check_cdna_vs_utr - MainProcess - Checking the cDNA for TraesCS1A01G000100.1.mrna1\n",
      "2018-04-25 15:47:38,637 - test - finalizing.py:117 - DEBUG - _check_cdna_vs_utr - MainProcess - Checking the cDNA for TraesCS1A01G000100.1.mrna1\n",
      "2018-04-25 15:47:38,637 - test - finalizing.py:117 - DEBUG - _check_cdna_vs_utr - MainProcess - Checking the cDNA for TraesCS1A01G000100.1.mrna1\n",
      "2018-04-25 15:47:38,637 - test - finalizing.py:117 - DEBUG - _check_cdna_vs_utr - MainProcess - Checking the cDNA for TraesCS1A01G000100.1.mrna1\n",
      "2018-04-25 15:47:38,637 - test - finalizing.py:117 - DEBUG - _check_cdna_vs_utr - MainProcess - Checking the cDNA for TraesCS1A01G000100.1.mrna1\n",
      "2018-04-25 15:47:38,643 - test - finalizing.py:626 - DEBUG - finalize - MainProcess - Verifying phase correctness for TraesCS1A01G000100.1.mrna1\n",
      "2018-04-25 15:47:38,643 - test - finalizing.py:626 - DEBUG - finalize - MainProcess - Verifying phase correctness for TraesCS1A01G000100.1.mrna1\n",
      "2018-04-25 15:47:38,643 - test - finalizing.py:626 - DEBUG - finalize - MainProcess - Verifying phase correctness for TraesCS1A01G000100.1.mrna1\n",
      "2018-04-25 15:47:38,643 - test - finalizing.py:626 - DEBUG - finalize - MainProcess - Verifying phase correctness for TraesCS1A01G000100.1.mrna1\n",
      "2018-04-25 15:47:38,643 - test - finalizing.py:626 - DEBUG - finalize - MainProcess - Verifying phase correctness for TraesCS1A01G000100.1.mrna1\n",
      "2018-04-25 15:47:38,643 - test - finalizing.py:626 - DEBUG - finalize - MainProcess - Verifying phase correctness for TraesCS1A01G000100.1.mrna1\n",
      "2018-04-25 15:47:38,649 - test - finalizing.py:515 - DEBUG - __check_phase_correctness - MainProcess - TraesCS1A01G000100.1.mrna1 has 1 internal ORF\n",
      "2018-04-25 15:47:38,649 - test - finalizing.py:515 - DEBUG - __check_phase_correctness - MainProcess - TraesCS1A01G000100.1.mrna1 has 1 internal ORF\n",
      "2018-04-25 15:47:38,649 - test - finalizing.py:515 - DEBUG - __check_phase_correctness - MainProcess - TraesCS1A01G000100.1.mrna1 has 1 internal ORF\n",
      "2018-04-25 15:47:38,649 - test - finalizing.py:515 - DEBUG - __check_phase_correctness - MainProcess - TraesCS1A01G000100.1.mrna1 has 1 internal ORF\n",
      "2018-04-25 15:47:38,649 - test - finalizing.py:515 - DEBUG - __check_phase_correctness - MainProcess - TraesCS1A01G000100.1.mrna1 has 1 internal ORF\n",
      "2018-04-25 15:47:38,649 - test - finalizing.py:515 - DEBUG - __check_phase_correctness - MainProcess - TraesCS1A01G000100.1.mrna1 has 1 internal ORF\n",
      "2018-04-25 15:47:38,655 - test - finalizing.py:518 - DEBUG - __check_phase_correctness - MainProcess - ORF #0 for TraesCS1A01G000100.1.mrna1: {}\n",
      "2018-04-25 15:47:38,655 - test - finalizing.py:518 - DEBUG - __check_phase_correctness - MainProcess - ORF #0 for TraesCS1A01G000100.1.mrna1: {}\n",
      "2018-04-25 15:47:38,655 - test - finalizing.py:518 - DEBUG - __check_phase_correctness - MainProcess - ORF #0 for TraesCS1A01G000100.1.mrna1: {}\n",
      "2018-04-25 15:47:38,655 - test - finalizing.py:518 - DEBUG - __check_phase_correctness - MainProcess - ORF #0 for TraesCS1A01G000100.1.mrna1: {}\n",
      "2018-04-25 15:47:38,655 - test - finalizing.py:518 - DEBUG - __check_phase_correctness - MainProcess - ORF #0 for TraesCS1A01G000100.1.mrna1: {}\n",
      "2018-04-25 15:47:38,655 - test - finalizing.py:518 - DEBUG - __check_phase_correctness - MainProcess - ORF #0 for TraesCS1A01G000100.1.mrna1: {}\n",
      "2018-04-25 15:47:38,662 - test - finalizing.py:448 - DEBUG - __check_internal_orf - MainProcess - Correct phases for TraesCS1A01G000100.1.mrna1: [0]\n",
      "2018-04-25 15:47:38,662 - test - finalizing.py:448 - DEBUG - __check_internal_orf - MainProcess - Correct phases for TraesCS1A01G000100.1.mrna1: [0]\n",
      "2018-04-25 15:47:38,662 - test - finalizing.py:448 - DEBUG - __check_internal_orf - MainProcess - Correct phases for TraesCS1A01G000100.1.mrna1: [0]\n",
      "2018-04-25 15:47:38,662 - test - finalizing.py:448 - DEBUG - __check_internal_orf - MainProcess - Correct phases for TraesCS1A01G000100.1.mrna1: [0]\n",
      "2018-04-25 15:47:38,662 - test - finalizing.py:448 - DEBUG - __check_internal_orf - MainProcess - Correct phases for TraesCS1A01G000100.1.mrna1: [0]\n",
      "2018-04-25 15:47:38,662 - test - finalizing.py:448 - DEBUG - __check_internal_orf - MainProcess - Correct phases for TraesCS1A01G000100.1.mrna1: [0]\n",
      "2018-04-25 15:47:38,669 - test - finalizing.py:468 - DEBUG - __check_internal_orf - MainProcess - Total CDS length 303\n",
      "2018-04-25 15:47:38,669 - test - finalizing.py:468 - DEBUG - __check_internal_orf - MainProcess - Total CDS length 303\n",
      "2018-04-25 15:47:38,669 - test - finalizing.py:468 - DEBUG - __check_internal_orf - MainProcess - Total CDS length 303\n",
      "2018-04-25 15:47:38,669 - test - finalizing.py:468 - DEBUG - __check_internal_orf - MainProcess - Total CDS length 303\n",
      "2018-04-25 15:47:38,669 - test - finalizing.py:468 - DEBUG - __check_internal_orf - MainProcess - Total CDS length 303\n",
      "2018-04-25 15:47:38,669 - test - finalizing.py:468 - DEBUG - __check_internal_orf - MainProcess - Total CDS length 303\n",
      "2018-04-25 15:47:38,675 - test - finalizing.py:628 - DEBUG - finalize - MainProcess - Calculating intron correctness for TraesCS1A01G000100.1.mrna1\n",
      "2018-04-25 15:47:38,675 - test - finalizing.py:628 - DEBUG - finalize - MainProcess - Calculating intron correctness for TraesCS1A01G000100.1.mrna1\n",
      "2018-04-25 15:47:38,675 - test - finalizing.py:628 - DEBUG - finalize - MainProcess - Calculating intron correctness for TraesCS1A01G000100.1.mrna1\n",
      "2018-04-25 15:47:38,675 - test - finalizing.py:628 - DEBUG - finalize - MainProcess - Calculating intron correctness for TraesCS1A01G000100.1.mrna1\n",
      "2018-04-25 15:47:38,675 - test - finalizing.py:628 - DEBUG - finalize - MainProcess - Calculating intron correctness for TraesCS1A01G000100.1.mrna1\n",
      "2018-04-25 15:47:38,675 - test - finalizing.py:628 - DEBUG - finalize - MainProcess - Calculating intron correctness for TraesCS1A01G000100.1.mrna1\n",
      "2018-04-25 15:47:38,681 - test - finalizing.py:660 - DEBUG - finalize - MainProcess - Finished finalising TraesCS1A01G000100.1.mrna1\n",
      "2018-04-25 15:47:38,681 - test - finalizing.py:660 - DEBUG - finalize - MainProcess - Finished finalising TraesCS1A01G000100.1.mrna1\n",
      "2018-04-25 15:47:38,681 - test - finalizing.py:660 - DEBUG - finalize - MainProcess - Finished finalising TraesCS1A01G000100.1.mrna1\n",
      "2018-04-25 15:47:38,681 - test - finalizing.py:660 - DEBUG - finalize - MainProcess - Finished finalising TraesCS1A01G000100.1.mrna1\n",
      "2018-04-25 15:47:38,681 - test - finalizing.py:660 - DEBUG - finalize - MainProcess - Finished finalising TraesCS1A01G000100.1.mrna1\n",
      "2018-04-25 15:47:38,681 - test - finalizing.py:660 - DEBUG - finalize - MainProcess - Finished finalising TraesCS1A01G000100.1.mrna1\n"
     ]
    },
    {
     "name": "stdout",
     "output_type": "stream",
     "text": [
      "1293\n",
      "303\n",
      "Triticum_aestivum_CS42_TGACv1_scaffold_021338_1AS\tTriticum_aestivum_TGACv1_all\tmRNA\t1310\t2602\t.\t+\t.\tID=TraesCS1A01G000100.1.mrna1;Parent=TraesCS1A01G000100.1.path1;Name=TraesCS1A01G000100.1.mrna1;coverage=100.0;identity=96.6;indels=15;matches=1263;mismatches=30;unknowns=0\n",
      "Triticum_aestivum_CS42_TGACv1_scaffold_021338_1AS\tTriticum_aestivum_TGACv1_all\texon\t1310\t2602\t.\t+\t.\tID=TraesCS1A01G000100.1.mrna1.exon1;Parent=TraesCS1A01G000100.1.mrna1\n",
      "Triticum_aestivum_CS42_TGACv1_scaffold_021338_1AS\tTriticum_aestivum_TGACv1_all\tfive_prime_UTR\t1310\t1688\t.\t+\t.\tID=TraesCS1A01G000100.1.mrna1.five_prime_UTR1;Parent=TraesCS1A01G000100.1.mrna1\n",
      "Triticum_aestivum_CS42_TGACv1_scaffold_021338_1AS\tTriticum_aestivum_TGACv1_all\tCDS\t1689\t1991\t.\t+\t0\tID=TraesCS1A01G000100.1.mrna1.CDS1;Parent=TraesCS1A01G000100.1.mrna1\n",
      "Triticum_aestivum_CS42_TGACv1_scaffold_021338_1AS\tTriticum_aestivum_TGACv1_all\tthree_prime_UTR\t1992\t2602\t.\t+\t.\tID=TraesCS1A01G000100.1.mrna1.three_prime_UTR1;Parent=TraesCS1A01G000100.1.mrna1\n"
     ]
    }
   ],
   "source": [
    "from eiliftover.util import transfer_utilities as transfer\n",
    "from Bio import Seq\n",
    "\n",
    "def transfer_by_alignment(ref_pep, target_cdna, target_bed):\n",
    "\n",
    "    frames = dict()\n",
    "    # Get the three-frame translation\n",
    "    for frame in range(3):\n",
    "        frames[frame] = str(Seq.Seq(target_cdna[frame:]).translate(to_stop=False))\n",
    "\n",
    "    # This will get the best match in the 3-frame translation\n",
    "    aln, best_frame, score, best_cigar = None, None, float(\"-inf\"), None\n",
    "    for frame in frames:\n",
    "        res, cigar = transfer.get_and_prepare_cigar(ref_pep, frames[frame], open=3, extend=1, matrix=parasail.blosum85)\n",
    "        if res.score > score:\n",
    "            aln, best_frame, score, best_cigar = res, frame, res.score, cigar\n",
    "\n",
    "    # Now it is time to try to transfer it ... Ignore any deletions at the beginning\n",
    "    cig_start = 0\n",
    "    translation_start = 0\n",
    "    \n",
    "    while not transfer.op_consumes[best_cigar[cig_start][1]][0]:\n",
    "        translation_start += best_cigar[cig_start][0]\n",
    "        cig_start += 1\n",
    "        \n",
    "    # print(cig_start, best_cigar[cig_start:])\n",
    "    # This is 0-based; we have to add 1 because we start 1 base after the gap at the beginning\n",
    "    if translation_start > 0:\n",
    "        translation_start = 3 * translation_start + 1\n",
    "    \n",
    "    translated = Seq.Seq(target_cdna[translation_start:]).translate(to_stop=True)\n",
    "    # Logic to handle when the CDS is broken\n",
    "    # This is 1-based, so we have to add 1 to \n",
    "    target_bed.thick_start = translation_start + 1\n",
    "    end = target_bed.thick_start + len(translated) * 3 - 1\n",
    "    \n",
    "    if translated[0] != ref_pep[0]:\n",
    "        if translation_start in (0, 1, 2):\n",
    "            target_bed.phase = translation_start\n",
    "        else:\n",
    "            target_bed.coding = False\n",
    "            return target_bed\n",
    "    \n",
    "    # Now check whether we can add the stop codon\n",
    "    if end + 3 < len(target_cdna):\n",
    "        end += 3\n",
    "    else: # Here we have to presume that it is open.\n",
    "        end = len(target_cdna)\n",
    "    \n",
    "    # print(translation_start * 3, translated)\n",
    "    target_bed.thick_end = end\n",
    "    target_bed.coding = True\n",
    "    return target_bed\n",
    "\n",
    "tbed = transfer_by_alignment(ref_pep, tar_cdna, tar_bed)\n",
    "tbed.transcriptomic = True\n",
    "print(tbed)\n",
    "print(tar_bed)\n",
    "print(tbed.coding, tbed.invalid, tbed.invalid_reason)\n",
    "\n",
    "ntar = tar.copy()\n",
    "ntar.strip_cds()\n",
    "logger = Mikado.utilities.log_utils.create_default_logger(\"test\")\n",
    "ntar.logger = logger\n",
    "ntar.logger.setLevel(\"DEBUG\")\n",
    "ntar.unfinalize()\n",
    "ntar.load_orfs([tbed])\n",
    "print(ntar.cdna_length)\n",
    "print(ntar.combined_cds_length)\n",
    "\n",
    "ntar.logger.setLevel(\"WARNING\")\n",
    "print(ntar.format(\"gff3\"))\n"
   ]
  },
  {
   "cell_type": "code",
   "execution_count": 169,
   "metadata": {},
   "outputs": [
    {
     "name": "stdout",
     "output_type": "stream",
     "text": [
      "ref.bed12:TraesCS1A01G000100LC.1\t0\t2740\tID=TraesCS1A01G000100LC.1;coding=True;phase=0\t0\t+\t1122\t1443\t0\t3\t417,432,1891\t0,417,849\n",
      "target.bed12:TraesCS1A01G000100LC.1.mrna1\t0\t2731\tID=TraesCS1A01G000100LC.1.mrna1;coding=True;phase=0\t0\t+\t1222\t1519\t0\t2\t1640,1091\t0,1640\n"
     ]
    }
   ],
   "source": [
    "! grep TraesCS1A01G000100LC.1 *bed12"
   ]
  },
  {
   "cell_type": "code",
   "execution_count": 171,
   "metadata": {},
   "outputs": [],
   "source": [
    "nref = Mikado.parsers.bed12.BED12(\"TraesCS1A01G000100LC.1\t0\t2740\tID=TraesCS1A01G000100LC.1;coding=True;phase=0\t0\t+\t1122\t1443\t0\t3\t417,432,1891\t0,417,849\")\n",
    "ntar = Mikado.parsers.bed12.BED12(\"TraesCS1A01G000100LC.1.mrna1\t0\t2731\tID=TraesCS1A01G000100LC.1.mrna1;coding=True;phase=0\t0\t+\t1222\t1519\t0\t2\t1640,1091\t0,1640\")"
   ]
  },
  {
   "cell_type": "code",
   "execution_count": 176,
   "metadata": {},
   "outputs": [
    {
     "name": "stdout",
     "output_type": "stream",
     "text": [
      "MSGAPPAAHENPDDRVPFTPGRTHNRIRSPRRTASGQWNNVGKGSRQNGSVTSGKGLALRTGLGGPGPEPVGCRRIARAAHVARAGRRVPAGGRTGNHPFGGFPRA*\n",
      "MEQCRQGKSAKRIRNFGKTIGSEDWARGSLPRTRRLSADCSSCSRGESGSSRAGRGTDRESPLRGLSPSMKQSTQNWYGQGESDCLIKTKHCDGPRGC*\n"
     ]
    }
   ],
   "source": [
    "print(str(Seq.Seq(str(cdnas[\"ref\"][nref.chrom][nref.thick_start - 1:nref.thick_end])).translate()))\n",
    "print(str(Seq.Seq(str(cdnas[\"target\"][ntar.chrom][ntar.thick_start - 1:ntar.thick_end])).translate()))"
   ]
  },
  {
   "cell_type": "code",
   "execution_count": 179,
   "metadata": {},
   "outputs": [
    {
     "data": {
      "text/plain": [
       "'GAGCCCGGTCCTCAGAGCCAATCCTTTTCCCGAAGTTACGGATCCGTTTTGCCGACTTCCCTTGCCTACATTGTTCCATTGGCCAGAGGCTGTTCGCCTTGGAGACCTGATGCGGTTATGAGTACGACCGGGCGTGAACGGTACTCGGTCGTCCGGATTTTCATGGGCCGCCGGGGGCGCACCGGACATCGCGCGACGTGCGGTGCTCTTTCGGCCACTGGACCCTACCTCCGGCTGAACGGTTTCCAAGGTTGGCAGGCCGTTAAGCAGAAAAGATAACTCTTCCCGAGGCCCCCGCCGGCGTCTTCGGACTTCCTAACGTCGCCGTCAACCGCCACATCCCGGCTCGGTAAGTCTTAACCTGATTCCCTTTCGGGGTATGCGCGTGATCGCGCTATCTGCCGGGGTTACCCCGTCCCTTAGGATCGGCTTACCCATGTGCAAGTGCCGTTCACATGGAACCTTTCTAATCTTCGGCCTTCAAAGTTCTCATTTGAATATTTGCTACTACCACCAGCCGCTCCACCCGGGCTCGCGCCCCGGGTTTTGCAGCGGCCGCCGCTCCCTCCTACTCATCGGGGCATGGCGCTCGCCCAGATGGCCGGGTGTGGGTCACGCGCTTCAGCGCCATCCATTTTCGGGGCTAGTTGATTCGGCAGGTGAGTTGTTACACACTCCTTAGCGGATTTCGACTTCCATGACCACCGTCCTGCTGTCTTAATCGACCAACACCCTTTGTGTGTTCTAGGTTAGCGCGCAGTTGGGCACCGTAACCCGGCTTCCGGTTCATCCCGCATCGCCAGTTCTGCTTACCAAAAATGGCCCACTAGGAGCACCCGATTCCGTGGCACGGCTCACCGAATCAGTCGCGCCATCCTACCTATTTAAAGTTTGAGAATAGGTCGAGGACGTTGCGTCCCCGATGCCTCTAATCATTAGCTTTACCTGATAGAACTCGTAATGGGCGCCAGCTATCCTGAGGGAAACTTCGGAGGGAACCAGCTACTAGATGGTTTGATTAGTCTTTCGTCCCTATAACCAAGTCAGACGAACGATTTGCACGTTAGTATTGCTTCGAGCCTCCACCAGAGTTTCCTCTGGCTTCGCCCTGCTCAGGCATAGTTCACCATCTTTCGGGTCCCGACAGGCGTGCTCCAACTCAAACCCTTCACAAAAGATCAGGGTCAGCCAGCGGTGCGGCCCGTGAGGGCCTCCCGCTCGTCAGCTTCCTTGCGCATCCCAGGTTTCAGAACCCGTCGACTCGCATGCATGTCAGACTCCTTGGTCCGTGTT'"
      ]
     },
     "execution_count": 179,
     "metadata": {},
     "output_type": "execute_result"
    }
   ],
   "source": [
    "tar_cdna"
   ]
  },
  {
   "cell_type": "code",
   "execution_count": null,
   "metadata": {},
   "outputs": [],
   "source": []
  }
 ],
 "metadata": {
  "kernelspec": {
   "display_name": "Python 3",
   "language": "python",
   "name": "python3"
  },
  "language_info": {
   "codemirror_mode": {
    "name": "ipython",
    "version": 3
   },
   "file_extension": ".py",
   "mimetype": "text/x-python",
   "name": "python",
   "nbconvert_exporter": "python",
   "pygments_lexer": "ipython3",
   "version": "3.6.4"
  }
 },
 "nbformat": 4,
 "nbformat_minor": 2
}
